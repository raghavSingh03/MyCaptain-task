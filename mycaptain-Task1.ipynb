{
 "cells": [
  {
   "cell_type": "code",
   "execution_count": 1,
   "id": "04cd1f4f",
   "metadata": {},
   "outputs": [
    {
     "name": "stdout",
     "output_type": "stream",
     "text": [
      "Input the radius of the circle: 1.1\n",
      "The area of the circle with radius 1.1 is:  3.801215000000001\n"
     ]
    }
   ],
   "source": [
    "from math import pi\n",
    "i=float(input(\"Input the radius of the circle: \"))\n",
    "j=3.1415\n",
    "area=i*i*j\n",
    "print(\"The area of the circle with radius {} is: \" .format(i),area)"
   ]
  },
  {
   "cell_type": "code",
   "execution_count": null,
   "id": "daf31e64",
   "metadata": {},
   "outputs": [],
   "source": []
  },
  {
   "cell_type": "code",
   "execution_count": null,
   "id": "7f43482d",
   "metadata": {},
   "outputs": [],
   "source": []
  }
 ],
 "metadata": {
  "kernelspec": {
   "display_name": "Python 3",
   "language": "python",
   "name": "python3"
  },
  "language_info": {
   "codemirror_mode": {
    "name": "ipython",
    "version": 3
   },
   "file_extension": ".py",
   "mimetype": "text/x-python",
   "name": "python",
   "nbconvert_exporter": "python",
   "pygments_lexer": "ipython3",
   "version": "3.8.8"
  }
 },
 "nbformat": 4,
 "nbformat_minor": 5
}
