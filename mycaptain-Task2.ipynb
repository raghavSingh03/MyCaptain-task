{
 "cells": [
  {
   "cell_type": "code",
   "execution_count": 1,
   "id": "894b0ffa",
   "metadata": {},
   "outputs": [
    {
     "name": "stdout",
     "output_type": "stream",
     "text": [
      "Input the Filename: abc.py\n",
      "The extension of the file is:'py'\n"
     ]
    }
   ],
   "source": [
    "x=input(\"Input the Filename: \")\n",
    "a=x.split(\".\")\n",
    "print(\"The extension of the file is:\"+repr(a[-1]))"
   ]
  },
  {
   "cell_type": "code",
   "execution_count": null,
   "id": "6739f74d",
   "metadata": {},
   "outputs": [],
   "source": []
  },
  {
   "cell_type": "code",
   "execution_count": null,
   "id": "261f90a9",
   "metadata": {},
   "outputs": [],
   "source": []
  }
 ],
 "metadata": {
  "kernelspec": {
   "display_name": "Python 3",
   "language": "python",
   "name": "python3"
  },
  "language_info": {
   "codemirror_mode": {
    "name": "ipython",
    "version": 3
   },
   "file_extension": ".py",
   "mimetype": "text/x-python",
   "name": "python",
   "nbconvert_exporter": "python",
   "pygments_lexer": "ipython3",
   "version": "3.8.8"
  }
 },
 "nbformat": 4,
 "nbformat_minor": 5
}
